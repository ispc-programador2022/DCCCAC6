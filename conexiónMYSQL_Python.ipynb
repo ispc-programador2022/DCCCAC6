{
  "cells": [
    {
      "cell_type": "markdown",
      "metadata": {
        "id": "zGJ0sDckvw57"
      },
      "source": [
        "# Conexión MYSQL con Python\n",
        "\n",
        "**1) Instalar pymysql para poder conectarnos desde Python**\n",
        "\n",
        "\n",
        "\n",
        "\n",
        "\n",
        "\n",
        "\n"
      ]
    },
    {
      "cell_type": "code",
      "execution_count": null,
      "metadata": {
        "id": "G73kQw43w9q8"
      },
      "outputs": [],
      "source": [
        "pip install pymysql"
      ]
    },
    {
      "cell_type": "markdown",
      "metadata": {
        "id": "4sHqJucJwtlx"
      },
      "source": [
        "**2) Conexión a la BBDD**"
      ]
    },
    {
      "cell_type": "code",
      "execution_count": null,
      "metadata": {
        "id": "uV-zaJD3wnF3"
      },
      "outputs": [],
      "source": [
        "import pymysql\n",
        "try:\n",
        "\tconexion = pymysql.connect(host='localhost',\n",
        "                             user='root',\n",
        "                             password='',\n",
        "                             db='')\n",
        "\tprint(\"Conexión correcta\")\n",
        "except (pymysql.err.OperationalError, pymysql.err.InternalError) as e:\n",
        "\tprint(\"Ocurrió un error al conectar: \", e)"
      ]
    },
    {
      "cell_type": "markdown",
      "metadata": {
        "id": "NsdUY5UcxAJy"
      },
      "source": [
        "**3) Consulta de base de datos**\n",
        "\n",
        "\n",
        "\n",
        "\n",
        "\n",
        "\n"
      ]
    },
    {
      "cell_type": "code",
      "execution_count": null,
      "metadata": {
        "id": "wtKHb3340bhJ"
      },
      "outputs": [],
      "source": [
        "import pymysql\n",
        "try:\n",
        "\tconexion = pymysql.connect(host='localhost',\n",
        "                             user='root',\n",
        "                             password='',\n",
        "                             db='Datostiempo')\n",
        "\ttry:\n",
        "\t\twith conexion.cursor() as cursor:\n",
        "\t\t\t# En este caso no necesitamos limpiar ningún dato\n",
        "\t\t\tcursor.execute(\"SELECT idDato, Ciudad, temperatura FROM Datostiempo;\")\n",
        "\n",
        "\t\t\t# Con fetchall traemos todas las filas\n",
        "\t\t\tdatostiempo = cursor.fetchall()\n",
        "\n",
        "\t\t\t# Recorrer e imprimir\n",
        "\t\t\tfor Datostiempos in datostiempo:\n",
        "\t\t\t\tprint(datostiempo)\n",
        "\tfinally:\n",
        "\t\tconexion.close()\n",
        "\t\n",
        "except (pymysql.err.OperationalError, pymysql.err.InternalError) as e:\n",
        "\tprint(\"Ocurrió un error al conectar: \", e)"
      ]
    },
    {
      "cell_type": "markdown",
      "metadata": {
        "id": "M0R9-9hU0l06"
      },
      "source": [
        "**4) Consulta con sentencia WHERE**"
      ]
    },
    {
      "cell_type": "code",
      "execution_count": null,
      "metadata": {
        "id": "dno5U_WO03p7"
      },
      "outputs": [],
      "source": [
        "import pymysql\n",
        "try:\n",
        "\tconexion = pymysql.connect(host='localhost',\n",
        "                             user='root',\n",
        "                             password='',\n",
        "                             db='Datostiempo')\n",
        "\ttry:\n",
        "\t\twith conexion.cursor() as cursor:\n",
        "\t\t\t\n",
        "\t\t\tconsulta = \"SELECT id, ciudad, fecha FROM Datostiempo WHERE fecha > %s;\"\n",
        "\t\t\tcursor.execute(consulta, (2000))\n",
        "\n",
        "\t\t\t# Con fetchall traemos todas las filas\n",
        "\t\t\tdatostiempo = cursor.fetchall()\n",
        "\n",
        "\t\t\t# Recorrer e imprimir\n",
        "\t\t\tfor datostiempo in Datostiempos:\n",
        "\t\t\t\tprint(datostiempo)\n",
        "\tfinally:\n",
        "\t\tconexion.close()\n",
        "\t\n",
        "except (pymysql.err.OperationalError, pymysql.err.InternalError) as e:\n",
        "\tprint(\"Ocurrió un error al conectar: \", e)"
      ]
    },
    {
      "cell_type": "markdown",
      "metadata": {
        "id": "Rn0bUR7A1ITo"
      },
      "source": [
        "**5) Editar**"
      ]
    },
    {
      "cell_type": "code",
      "execution_count": null,
      "metadata": {
        "id": "jWjIo5-I1Rgk"
      },
      "outputs": [],
      "source": [
        "import pymysql\n",
        "try:\n",
        "\tconexion = pymysql.connect(host='localhost',\n",
        "                             user='root',\n",
        "                             password='',\n",
        "                             db='Datostiempo')\n",
        "\ttry:\n",
        "\t\twith conexion.cursor() as cursor:\n",
        "\t\t\t\n",
        "\t\t\tconsulta = \"UPDATE Datostiempo SET ciudades = %s WHERE id = %s;\"\n",
        "\t\t\tnueva_temperatura = int(input(\"nueva temperatura\"))\n",
        "\t\t\tid_editar = 2\n",
        "\t\t\tcursor.execute(consulta, (nueva_temperatura, id_editar))\n",
        "\n",
        "\t\t# No olvidemos hacer commit cuando hacemos un cambio a la BD\n",
        "\t\tconexion.commit()\n",
        "\tfinally:\n",
        "\t\tconexion.close()\n",
        "\t\n",
        "except (pymysql.err.OperationalError, pymysql.err.InternalError) as e:\n",
        "\tprint(\"Ocurrió un error al conectar: \", e)"
      ]
    },
    {
      "cell_type": "markdown",
      "metadata": {
        "id": "oAyyJjQr1TaK"
      },
      "source": [
        "**6) Eliminar**"
      ]
    },
    {
      "cell_type": "code",
      "execution_count": null,
      "metadata": {
        "id": "_3fekwxb1a-N"
      },
      "outputs": [],
      "source": [
        "import pymysql\n",
        "try:\n",
        "\tconexion = pymysql.connect(host='localhost',\n",
        "                             user='root',\n",
        "                             password='',\n",
        "                             db='Datostiempo')\n",
        "\ttry:\n",
        "\t\twith conexion.cursor() as cursor:\n",
        "\t\t\t\n",
        "\t\t\tconsulta = \"DELETE FROM datostiempo WHERE fecha < %s;\"\n",
        "\t\t\tanio = 2000\n",
        "\t\t\tcursor.execute(consulta, (anio))\n",
        "\n",
        "\t\t# No olvidemos hacer commit cuando hacemos un cambio a la BD\n",
        "\t\tconexion.commit()\n",
        "\tfinally:\n",
        "\t\tconexion.close()\n",
        "\t\n",
        "except (pymysql.err.OperationalError, pymysql.err.InternalError) as e:\n",
        "\tprint(\"Ocurrió un error al conectar: \", e)"
      ]
    },
    {
      "cell_type": "markdown",
      "metadata": {
        "id": "B6wWehc91yX0"
      },
      "source": [
        "**7) Insertar**"
      ]
    },
    {
      "cell_type": "code",
      "execution_count": null,
      "metadata": {
        "id": "eSFX82yE10_a"
      },
      "outputs": [],
      "source": [
        "import pymysql\n",
        "try:\n",
        "\tconexion = pymysql.connect(host='localhost',\n",
        "                             user='root',\n",
        "                             password='',\n",
        "                             db='Datostiempo')\n",
        "\ttry:\n",
        "\t\twith conexion.cursor() as cursor:\n",
        "\t\t\tconsulta = \"INSERT INTO Datostiempo(Fecha, Ciudad) VALUES (%s, %s);\"\n",
        "\t\t\t#Podemos llamar muchas veces a .execute con datos distintos\n",
        "\t\t\tcursor.execute(consulta, (\"17/11/2022\", \"Córdoba\"))\n",
        "\t\t\tcursor.execute(consulta, (\"15/11/2022\", \"Rosario\"))\n",
        "\t\t\tcursor.execute(consulta, (\"11/11/2022\", \"CABA\"))\n",
        "\t\tconexion.commit()\n",
        "\tfinally:\n",
        "\t\tconexion.close()\n",
        "except (pymysql.err.OperationalError, pymysql.err.InternalError) as e:\n",
        "\tprint(\"Ocurrió un error al conectar: \", e)"
      ]
    }
  ],
  "metadata": {
    "colab": {
      "provenance": []
    },
    "kernelspec": {
      "display_name": "Python 3.10.7 64-bit",
      "language": "python",
      "name": "python3"
    },
    "language_info": {
      "name": "python",
      "version": "3.10.7"
    },
    "vscode": {
      "interpreter": {
        "hash": "26de051ba29f2982a8de78e945f0abaf191376122a1563185a90213a26c5da77"
      }
    }
  },
  "nbformat": 4,
  "nbformat_minor": 0
}
