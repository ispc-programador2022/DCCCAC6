{
 "cells": [
  {
   "cell_type": "markdown",
   "metadata": {},
   "source": [
    "    #Curso de autmatización y web Scrapping\n",
    "\n",
    "Utilizamos la herramienta Chrome Driver, un archivo .exe basado en la interfaz WebDriver (simulador de interacciones cliente-navegador) para iniciar el Chrome sobre el framework Selenium (Seleniun es el resultado de fusionar la APi WebDriver con un antiguo software llamado JavaScriptTestRunner, creado en 2004 con el fin de validar la compatibilidad de una app con diferentes navegadores) que permite a los desarrolladores probar y registrar las interacciones con una aplicación web de forma completamente automática."
   ]
  },
  {
   "cell_type": "code",
   "execution_count": null,
   "metadata": {},
   "outputs": [],
   "source": [
    "from selenium import webdriver\n",
    "from selenium.webdriver.common.by import By"
   ]
  },
  {
   "cell_type": "code",
   "execution_count": null,
   "metadata": {},
   "outputs": [],
   "source": [
    "url1 = \"https://listado.mercadolibre.com.ar/televisor-plasma#D[A:televisor%20plasma]\""
   ]
  },
  {
   "cell_type": "code",
   "execution_count": null,
   "metadata": {},
   "outputs": [],
   "source": [
    "    ##abrir ventana\n",
    "driver = webdriver.Chrome(\"C:\\webDrivers\\chromedriver.exe\")\n",
    "driver.get(url1)\n",
    "#driver.maximize_window()"
   ]
  },
  {
   "cell_type": "markdown",
   "metadata": {},
   "source": [
    "aprender a usar Xpath (expresiones que recorren y procesan un documento XML parseado por un analizador (o parser) construyendo un árbol de nodos. Este árbol comienza con un elemento raíz, que se diversifica a lo largo de los elementos que cuelgan de él y acaba en nodos hoja, que contienen solo texto).\n",
    " Hay Xpath relativas y absolutas:"
   ]
  },
  {
   "cell_type": "code",
   "execution_count": null,
   "metadata": {},
   "outputs": [],
   "source": [
    "#obtener precios de televisores plasma de mercado libre basados en XPath absolutos: utilizar Ctrl+F para buscar por Xpath\n",
    "##//li[@class=\"ui-search-layout__item shops__layout-item\"]/div/div/div[2]/div[3]/div/div/div/div/div/span/span\n",
    "\n",
    "    #HAY DOS FORMAS DE LLAMAR AL METODO .find_elements =>\n",
    "price_envioGratis = driver.find_elements(By.XPATH, '//li[@class=\"ui-search-layout__item shops__layout-item\"]/div/div/div[2]/div[3]/div/div/div/div/div/span/span/span[2]')\n",
    "price_sinEnvioGratis = driver.find_elements_by_xpath('//li[@class=\"ui-search-layout__item shops__layout-item\"]/div/div/div[2]/div[2]/div/div/div/div/div/span/span[2]/span[2]')\n",
    "\n",
    "print(\"se obtiene una lista con\", len(price_envioGratis), \"precios de envío sin cargo\")\n",
    "# for i in price_envioGratis:\n",
    "#     print(i.text)\n",
    "print(\"se obtiene una lista con\", len(price_sinEnvioGratis), \"precios de envío con cargo\")\n",
    "# for i in price_sinEnvioGratis:\n",
    "#     print(i.text)\n",
    "print(\"__________________________________________________________________________________\")\n",
    "prices = price_envioGratis + price_sinEnvioGratis\n",
    "# for i in prices:\n",
    "#     print(i.text)"
   ]
  },
  {
   "cell_type": "code",
   "execution_count": null,
   "metadata": {},
   "outputs": [],
   "source": [
    "#se obtienen los nombres de cada uno de los televisores por medio de la clase div solamente:\n",
    "## //h2[@class=\"ui-search-item__title shops__item-title\"]\n",
    "\n",
    "#item_names = driver.find_elements_by_class_name('ui-search-item__title shops__item-title')\n",
    "#item_names = driver.find_elements(By.CLASS_NAME, \"ui-search-item__title shops__item-title\")\n",
    "# NO FUNCIONA SELECCIONAR POR CLASE, SE INTENTA POR TAG <h2>\n",
    "\n",
    "item_names = driver.find_elements(By.TAG_NAME, (\"h2\"))\n",
    "#los 2 ultimos elementos de mas que no deben sen guardados en la ista, por lo que se eliminan\n",
    "for i in range(2):\n",
    "    item_names.pop(50)\n",
    "\n",
    "print(\"hay\", len(item_names), \"productos con\",len(prices), \"precios listos para procesar\")\n",
    "\n",
    "for i in range (len(item_names)):\n",
    "    print(item_names[i].text)\n",
    "    print(prices[i].text)\n",
    "    print(\"\")\n",
    "\n",
    "driver.close()"
   ]
  }
 ],
 "metadata": {
  "kernelspec": {
   "display_name": "Python 3.10.5 64-bit",
   "language": "python",
   "name": "python3"
  },
  "language_info": {
   "codemirror_mode": {
    "name": "ipython",
    "version": 3
   },
   "file_extension": ".py",
   "mimetype": "text/x-python",
   "name": "python",
   "nbconvert_exporter": "python",
   "pygments_lexer": "ipython3",
   "version": "3.10.5"
  },
  "orig_nbformat": 4,
  "vscode": {
   "interpreter": {
    "hash": "98b7f83ea1f6816592be813d0a9257f9f3e2d15bf5c320e3b781c72faa584dce"
   }
  }
 },
 "nbformat": 4,
 "nbformat_minor": 2
}
